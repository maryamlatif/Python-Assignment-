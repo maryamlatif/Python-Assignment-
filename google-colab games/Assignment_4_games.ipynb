{
  "cells": [
    {
      "cell_type": "code",
      "execution_count": null,
      "metadata": {
        "id": "2JpG6uIRqiCF"
      },
      "outputs": [],
      "source": [
        "import random\n",
        "\n",
        "def hangman():\n",
        "    Words = [\"Python\", \"Streamlit\", \"Colab\", \"Developer\", \"Code\", \"Typescript\"]\n",
        "    word = random.choice(Words).lower()\n",
        "    guessed_letters = []\n",
        "    tries = 6\n",
        "\n",
        "    print(\"🎉 Welcome to Hangman Game!\")\n",
        "    print(\"_\" * len(word))\n",
        "\n",
        "    while tries > 0:\n",
        "        guess = input(\"Guess a letter: \").lower()\n",
        "\n",
        "        if not guess.isalpha() or len(guess) != 1:\n",
        "            print(\"Please enter a single alphabetic character.\")\n",
        "            continue\n",
        "\n",
        "hangman()\n"
      ]
    },
    {
      "cell_type": "code",
      "source": [
        "name = (input(\"Enter a name :\"))\n",
        "language = (input(\"Enter a proggraming language (Python, TypeScript ,JavaScript, etc...)\"))\n",
        "favorite_tech =(input(\"Enter a favorite-tech (Ai,Blockchain,Cloud,etc.... )\"))\n",
        "shop_item =(input(\"Enter a  grocery item\"))\n",
        "payment =(input(\"Enter a payment method (Card,Cash, Bitcoin , etc...)\"))\n",
        "\n",
        "\n",
        "story=(\n",
        "    f\"\"\"\n",
        "    {name} was a hardcore {language} programmer—life revolved around code, coffee, and debugging.\n",
        "    One day, the parent called out:\n",
        "\n",
        "    👩‍🦰 \"Hey {name}! Go buy some {shop_item} from the market!\"\n",
        "\n",
        "    Lost in thought, {name} replied:\n",
        "    💻 \"Can't we automate this process using {favorite_tech}?\"\n",
        "\n",
        "    Parent: \"No, we can’t! Move!\"\n",
        "\n",
        "    Reluctantly, {name} left for the market. Standing there, {name} thought:\n",
        "    💭 \"SELECT * FROM vegetables WHERE type = 'fresh';\"\n",
        "\n",
        "    The vendor stared:\n",
        "    👨‍🌾 \"Hey, will you pay by {payment} or just code all day?\"\n",
        "\n",
        "    {name} sighed, paid, and walked home thinking:\n",
        "    💭 \"If only life had an API for these tasks...\" 😩\n",
        "\n",
        "\n",
        "\"\"\")\n",
        "\n",
        "print(story)\n"
      ],
      "metadata": {
        "id": "YUZd0_Somz1A"
      },
      "execution_count": null,
      "outputs": []
    },
    {
      "cell_type": "code",
      "source": [
        "def computer_guesses():\n",
        "    low = 1\n",
        "    high = 100\n",
        "    attempts = 0\n",
        "\n",
        "    print(\"🤖 Think of a number between 1 and 100.\")\n",
        "    input(\"Press Enter when you're ready...\")\n",
        "\n",
        "    while low <= high:\n",
        "        guess = (low + high) // 2\n",
        "        attempts += 1\n",
        "        print(f\"My guess is: {guess}\")\n",
        "        feedback = input(\"Is it (H)igh, (L)ow, or (C)orrect? \").lower()\n",
        "\n",
        "        if feedback == 'c':\n",
        "            print(f\"🎉 Yay! I guessed your number in {attempts} attempts.\")\n",
        "            break\n",
        "        elif feedback == 'h':\n",
        "            high = guess - 1\n",
        "        elif feedback == 'l':\n",
        "            low = guess + 1\n",
        "        else:\n",
        "            print(\"Please enter H, L, or C only.\")\n",
        "\n",
        "computer_guesses()\n"
      ],
      "metadata": {
        "id": "OTU-ovTfmJpt"
      },
      "execution_count": null,
      "outputs": []
    },
    {
      "cell_type": "code",
      "source": [
        "import time\n",
        "\n",
        "def countdown_timer(seconds):\n",
        "    while seconds >= 0:\n",
        "        mins, secs = divmod(seconds, 60)\n",
        "        timer = f\"{mins:02d}:{secs:02d}\"\n",
        "        print(timer, end=\"\\r\")\n",
        "        time.sleep(1)\n",
        "        seconds -= 1\n",
        "    print(\"Time's up! ⏰\")\n",
        "\n",
        "\n",
        "total_seconds = int(input(\"Enter time in seconds: \"))\n",
        "countdown_timer(total_seconds)\n"
      ],
      "metadata": {
        "id": "jy17rNsjjuV-"
      },
      "execution_count": null,
      "outputs": []
    },
    {
      "cell_type": "code",
      "source": [
        "import random\n",
        "import string\n",
        "\n",
        "def generate_password(length=8):\n",
        "    characters = string.ascii_letters + string.digits + string.punctuation\n",
        "    password = ''.join(random.choice(characters) for _ in range(length))\n",
        "    return password\n",
        "\n",
        "\n",
        "length = int(input(\"Enter password length: \"))\n",
        "print(\"Generated Password:\", generate_password(length))\n"
      ],
      "metadata": {
        "id": "aaMnUyBEkcFB"
      },
      "execution_count": null,
      "outputs": []
    },
    {
      "cell_type": "code",
      "source": [
        "import random\n",
        "\n",
        "def play_game():\n",
        "    options = ['rock', 'paper', 'scissors']\n",
        "    user = input(\"Choose rock, paper, or scissors: \").lower()\n",
        "    computer = random.choice(options)\n",
        "\n",
        "    print(f\"Computer chose: {computer}\")\n",
        "\n",
        "    if user == computer:\n",
        "        print(\"It's a tie!\")\n",
        "    elif (user == 'rock' and computer == 'scissors') or \\\n",
        "         (user == 'scissors' and computer == 'paper') or \\\n",
        "         (user == 'paper' and computer == 'rock'):\n",
        "        print(\"You win! 🎉\")\n",
        "    elif user in options:\n",
        "        print(\"You lose! 😢\")\n",
        "    else:\n",
        "        print(\"Invalid choice!\")\n",
        "\n",
        "play_game()\n"
      ],
      "metadata": {
        "id": "v3JHedpIknB8"
      },
      "execution_count": null,
      "outputs": []
    },
    {
      "cell_type": "code",
      "source": [
        "import random\n",
        "\n",
        "def guess_number_game():\n",
        "    number = random.randint(1, 100)\n",
        "    attempts = 0\n",
        "\n",
        "    print(\"🎯 Guess the Number Game!\")\n",
        "    print(\"I'm thinking of a number between 1 and 100.\")\n",
        "\n",
        "    while True:\n",
        "        guess = input(\"Enter your guess: \")\n",
        "        if not guess.isdigit():\n",
        "            print(\"Please enter a valid number.\")\n",
        "            continue\n",
        "\n",
        "        guess = int(guess)\n",
        "        attempts += 1\n",
        "\n",
        "        if guess < number:\n",
        "            print(\"Too low! Try again.\")\n",
        "        elif guess > number:\n",
        "            print(\"Too high! Try again.\")\n",
        "        else:\n",
        "            print(f\"🎉 Correct! The number was {number}.\")\n",
        "            print(f\"You guessed it in {attempts} attempts.\")\n",
        "            break\n",
        "\n",
        "guess_number_game()\n"
      ],
      "metadata": {
        "id": "E3V2bUCAlL42"
      },
      "execution_count": null,
      "outputs": []
    },
    {
      "cell_type": "code",
      "source": [
        "import time\n",
        "\n",
        "def countdown_timer(seconds):\n",
        "    while seconds > 0:\n",
        "        mins, secs = divmod(seconds, 60)\n",
        "        print(f\"{mins:02d}:{secs:02d}\")\n",
        "        time.sleep(1)\n",
        "        seconds -= 1\n",
        "    print(\"⏰ Time's up!\")\n",
        "\n",
        "# User input\n",
        "try:\n",
        "    total_seconds = int(input(\"Enter time in seconds: \"))\n",
        "    countdown_timer(total_seconds)\n",
        "except ValueError:\n",
        "    print(\"Please enter a valid number.\")\n"
      ],
      "metadata": {
        "id": "mls-cjKWlTdC"
      },
      "execution_count": null,
      "outputs": []
    }
  ],
  "metadata": {
    "colab": {
      "provenance": []
    },
    "kernelspec": {
      "display_name": "Python 3",
      "name": "python3"
    },
    "language_info": {
      "name": "python"
    }
  },
  "nbformat": 4,
  "nbformat_minor": 0
}